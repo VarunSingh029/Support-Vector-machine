{
 "cells": [
  {
   "cell_type": "code",
   "execution_count": 7,
   "metadata": {},
   "outputs": [],
   "source": [
    "from sklearn import svm,datasets\n",
    "import numpy as np\n",
    "from sklearn.model_selection import train_test_split\n",
    "import matplotlib.pyplot as plt\n"
   ]
  },
  {
   "cell_type": "code",
   "execution_count": 16,
   "metadata": {},
   "outputs": [],
   "source": [
    "iris=datasets.load_iris()\n",
    "x=iris.data[:,0:2]\n",
    "y=iris.target\n",
    "x_train,x_test,y_train,y_test=train_test_split(x,y)"
   ]
  },
  {
   "cell_type": "code",
   "execution_count": 27,
   "metadata": {},
   "outputs": [
    {
     "name": "stderr",
     "output_type": "stream",
     "text": [
      "C:\\Anaconda\\lib\\site-packages\\sklearn\\svm\\base.py:193: FutureWarning: The default value of gamma will change from 'auto' to 'scale' in version 0.22 to account better for unscaled features. Set gamma explicitly to 'auto' or 'scale' to avoid this warning.\n",
      "  \"avoid this warning.\", FutureWarning)\n"
     ]
    },
    {
     "data": {
      "text/plain": [
       "SVC(C=1.0, cache_size=200, class_weight=None, coef0=0.0,\n",
       "    decision_function_shape='ovr', degree=3, gamma='auto_deprecated',\n",
       "    kernel='rbf', max_iter=-1, probability=False, random_state=None,\n",
       "    shrinking=True, tol=0.001, verbose=False)"
      ]
     },
     "execution_count": 27,
     "metadata": {},
     "output_type": "execute_result"
    }
   ],
   "source": [
    "clf=svm.SVC()\n",
    "        \n",
    "clf.fit(x_train,y_train)"
   ]
  },
  {
   "cell_type": "code",
   "execution_count": 28,
   "metadata": {},
   "outputs": [
    {
     "data": {
      "text/plain": [
       "0.8421052631578947"
      ]
     },
     "execution_count": 28,
     "metadata": {},
     "output_type": "execute_result"
    }
   ],
   "source": [
    "clf.score(x_test,y_test)"
   ]
  },
  {
   "cell_type": "markdown",
   "metadata": {},
   "source": [
    "finding out a range of with minimium and maximium with extra margins i.e. -1 and +1\n",
    "and then calling meshgrid that will replicate them\n",
    "if points x1 and x2 are 0.3 and 0.4"
   ]
  },
  {
   "cell_type": "code",
   "execution_count": 29,
   "metadata": {},
   "outputs": [],
   "source": [
    "def makegrid(x1,x2,h=0.02):\n",
    "    x1_min, x1_max = x1.min() -1, x1.max() +1\n",
    "    x2_min, x2_max = x2.min() -1, x2.max() +1  \n",
    "    a=np.arange(x1_min,x1_max,h)\n",
    "    b=np.arange(x2_min,x2_max,h)\n",
    "    xx,yy=np.meshgrid(a,b)\n",
    "    return xx,yy    "
   ]
  },
  {
   "cell_type": "code",
   "execution_count": 12,
   "metadata": {},
   "outputs": [
    {
     "data": {
      "text/plain": [
       "(array([[0.  , 0.02, 0.04, ..., 3.94, 3.96, 3.98],\n",
       "        [0.  , 0.02, 0.04, ..., 3.94, 3.96, 3.98],\n",
       "        [0.  , 0.02, 0.04, ..., 3.94, 3.96, 3.98],\n",
       "        ...,\n",
       "        [0.  , 0.02, 0.04, ..., 3.94, 3.96, 3.98],\n",
       "        [0.  , 0.02, 0.04, ..., 3.94, 3.96, 3.98],\n",
       "        [0.  , 0.02, 0.04, ..., 3.94, 3.96, 3.98]]),\n",
       " array([[4.  , 4.  , 4.  , ..., 4.  , 4.  , 4.  ],\n",
       "        [4.02, 4.02, 4.02, ..., 4.02, 4.02, 4.02],\n",
       "        [4.04, 4.04, 4.04, ..., 4.04, 4.04, 4.04],\n",
       "        ...,\n",
       "        [6.94, 6.94, 6.94, ..., 6.94, 6.94, 6.94],\n",
       "        [6.96, 6.96, 6.96, ..., 6.96, 6.96, 6.96],\n",
       "        [6.98, 6.98, 6.98, ..., 6.98, 6.98, 6.98]]))"
      ]
     },
     "execution_count": 12,
     "metadata": {},
     "output_type": "execute_result"
    }
   ],
   "source": [
    "dummy data\n",
    "\n",
    "x1=np.array([1,3])\n",
    "x2=np.array([5,6])\n",
    "makegrid(x1,x2)"
   ]
  },
  {
   "cell_type": "markdown",
   "metadata": {},
   "source": [
    "lets pass features\n",
    "\n",
    "ravel will convert multidimensional array to 1 d array\n",
    "\n",
    "if kernel is linear decision boundary will be different"
   ]
  },
  {
   "cell_type": "code",
   "execution_count": 30,
   "metadata": {},
   "outputs": [
    {
     "data": {
      "image/png": "[encoded data removed]",
      "text/plain": [
       "<Figure size 432x288 with 1 Axes>"
      ]
     },
     "metadata": {
      "needs_background": "light"
     },
     "output_type": "display_data"
    }
   ],
   "source": [
    "xx,yy=makegrid(x[:,0], x[:,1])\n",
    "predictions=clf.predict(np.c_[xx.ravel(), yy.ravel()])\n",
    "plt.scatter(xx.ravel(), yy.ravel(), c=predictions)\n",
    "plt.show()"
   ]
  }
 ],
 "metadata": {
  "kernelspec": {
   "display_name": "Python 3",
   "language": "python",
   "name": "python3"
  },
  "language_info": {
   "codemirror_mode": {
    "name": "ipython",
    "version": 3
   },
   "file_extension": ".py",
   "mimetype": "text/x-python",
   "name": "python",
   "nbconvert_exporter": "python",
   "pygments_lexer": "ipython3",
   "version": "3.7.4"
  }
 },
 "nbformat": 4,
 "nbformat_minor": 2
}
